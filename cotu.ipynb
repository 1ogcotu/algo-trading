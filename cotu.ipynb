{
 "cells": [
  {
   "cell_type": "markdown",
   "metadata": {},
   "source": [
    "## This Juypter Notebook Will Serve As the Host for Everything COTU\n",
    "\n",
    "The play is to Research, Backtest, and Implement - MoonDev inspo.\n"
   ]
  },
  {
   "cell_type": "code",
   "execution_count": null,
   "metadata": {},
   "outputs": [],
   "source": [
    "# Step #1 - Research\n",
    "\n",
    "# research trading strategies and alpha generation techniques (google scholar, books, podcasts, youtube)\n",
    "\n",
    "# Research anything you want to create \n",
    "\n",
    "# Immediate ideas for Profit Generation (Sports Betting , Algo Trading, Content Creation)\n",
    "\n",
    "# Area 1 of Research - Sports Betting \n",
    "    # General Ideas 4 Sports Betting - Automated Sports Better, Best Props Based on Past X Games, Optimal Size to Picks calculator\n",
    "    # Best props by monthly statisitics or seasonal statistic average,\n",
    "    # Best props by available money lines\n",
    "    # Best props by sport  \n",
    "\n",
    "# Area 2 of Research - Algo Trading\n",
    "    # General Ideas 4 Algo Trading - Self Correcting Algo, RBI by Grammmatical Evolution, Strategy Converter by Direction, $10 to $150 w/ 85%+ win rate\n",
    "    # Indicator & Algo creation \n",
    "    # Triad Trading Algo\n",
    "    # Golden SBS Algo \n",
    "    # General Market Strucuture Algo\n",
    "    # Triad x Shooter/Hammer x DTFX x SBS Algorithm\n",
    "    # Saty ATR Level Algo for any asset \n",
    "    # Using SATY Pivot Ribbon to create automated trading strategy\n",
    "\n",
    "# Area 3 of Research - Content Creation \n",
    "    # AI Generated account creation based on Niche (Gives bio, description, and outline for post per week)\n",
    "    # AI Generated Slideshow creation \n",
    "    # AI metric tracker for most watched content per language, country, etc \n",
    "    # Automated short creator based on given \"tags\", \"key words\" , \"markets\" with a given video (i.e: You have a video and want to create a clip that contains specific content to what you looking for)\n",
    "\n",
    "## Backtest - This is pretty self explanatory, we are trying to see if what we researched is worth continued exploration into the implementation phase. \n",
    "\n",
    "    # Area 1 Backtesting - Placing bets with just $1 across 10 days or strategies created with better choosing most profitable \n",
    "    # Area 2 Backtesting - use ohlcv data in order to backtest the strategy, use backtest.py, \n",
    "        # optimize the backtest to find best variables + analyze matrix, \n",
    "        # backtest on multiple symbols and timeframes to build confidence\n",
    "    # Area 3 Backtesting - Which strategy produces the most amount of views, likes, follows, conversion, in shortest period of time.\n",
    "\n"
   ]
  },
  {
   "cell_type": "code",
   "execution_count": null,
   "metadata": {},
   "outputs": [],
   "source": [
    "# Finall got laptop back!"
   ]
  }
 ],
 "metadata": {
  "language_info": {
   "name": "python"
  }
 },
 "nbformat": 4,
 "nbformat_minor": 2
}
